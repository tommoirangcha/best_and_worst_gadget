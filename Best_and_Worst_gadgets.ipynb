{
  "nbformat": 4,
  "nbformat_minor": 0,
  "metadata": {
    "colab": {
      "provenance": []
    },
    "kernelspec": {
      "name": "python3",
      "display_name": "Python 3"
    },
    "language_info": {
      "name": "python"
    }
  },
  "cells": [
    {
      "cell_type": "markdown",
      "source": [
        "### Problem Statement :\n",
        "#### You are a data analyst working for a company called \"Gadget Corp.\" Gadget Corp. sells a variety of electronic gadgets and has recently conducted a customer satisfaction survey. The survey data is stored in a list of dictionaries, where each dictionary represents a survey response. Each response contains the customer's name, the gadget they purchased, and their satisfaction ratings for multiple criteria: performance, design, and value. However, some responses might be missing ratings for one or more criteria.\n",
        "Your tasks\n",
        "1. Write a Python function \"sort_gadget_by_satisfaction\" that processes this survey data and calculates the average satisfaction rating for each criterion for each gadget. Additionally, you need to identify the gadget with the highest overall average satisfaction rating, combining all criteria. The final output should be a sorted list of gadgets in descending order of their overall average satisfaction, along with their average ratings for each criterion.\n",
        "2. Create another function \"get_best_and_worst_gadget\"  which gets the best and the worst gadget by taking in the output from \"sort_gadget_by_satisfaction\" as input. eg.output  {\"best\":\"Laptop\",\"worst\":\"Smartwatch\"}\n",
        "\n",
        "Requirements:\n",
        "\n",
        "*Ensure your solution handles cases where there might be missing ratings for some criteria*.\n",
        "\n",
        "*If multiple gadgets have the same highest overall average rating, their order in the sorted list can be arbitrary*."
      ],
      "metadata": {
        "id": "_hgcqtTJI2YU"
      }
    },
    {
      "cell_type": "code",
      "source": [
        "def average(rating):\n",
        "    non_none = [x for x in rating if x is not None]\n",
        "    non_none_avg = sum(non_none)/len(non_none)\n",
        "    rating = [non_none_avg if x is None else x for x in rating]\n",
        "    avg = round(sum(rating)/len(rating),2)\n",
        "    return avg"
      ],
      "metadata": {
        "id": "omNaVERxI4B7"
      },
      "execution_count": null,
      "outputs": []
    },
    {
      "cell_type": "code",
      "source": [
        "def insertion_sort_dict(d):\n",
        "    items = list(d.items())\n",
        "    n = len(items)\n",
        "\n",
        "    for i in range(1, n):\n",
        "        key_item = items[i]\n",
        "        j = i - 1\n",
        "        while j >= 0 and items[j][1] < key_item[1]:\n",
        "            items[j + 1] = items[j]\n",
        "            j -= 1\n",
        "        items[j + 1] = key_item\n",
        "    sorted_dict = {k: v for k, v in items}\n",
        "    return sorted_dict"
      ],
      "metadata": {
        "id": "9gUPLfGpvKvj"
      },
      "execution_count": null,
      "outputs": []
    },
    {
      "cell_type": "code",
      "source": [
        "def sort_gadget_by_satisfaction(survey_responses):\n",
        "    g_name = set()\n",
        "\n",
        "    for i in survey_responses:\n",
        "        g_name.add(i['gadget'])\n",
        "\n",
        "    criteria = [\"performance\", \"design\", \"value\"]\n",
        "    rating_dict = {}\n",
        "    overall_dict = {}\n",
        "\n",
        "    for i in g_name:\n",
        "        rating_dict[i] = []\n",
        "        overall_dict[i] = []\n",
        "\n",
        "    for i in criteria:\n",
        "        print(\"On\", i.title(), \":\")\n",
        "        print(\"-\"*(len(i)+4))\n",
        "\n",
        "        for j in survey_responses:\n",
        "            rating_dict[j['gadget']].append(j.get(i))\n",
        "\n",
        "\n",
        "\n",
        "        for k in rating_dict:\n",
        "            avg = average(rating_dict[k])\n",
        "            rating_dict[k] = avg\n",
        "            overall_dict[k].append(avg)\n",
        "\n",
        "        rating_dict = insertion_sort_dict(rating_dict)\n",
        "\n",
        "        for i in rating_dict:\n",
        "            print(i, \" : \", rating_dict[i])\n",
        "        print(\"\")\n",
        "\n",
        "        for l in g_name:\n",
        "            rating_dict[l] = []\n",
        "\n",
        "    print(\"Overall rating : \")\n",
        "    print(\"-\"*15)\n",
        "\n",
        "    for i in overall_dict:\n",
        "        avg = average(overall_dict[i])\n",
        "        print(i, \" : \", avg)\n",
        "        overall_dict[i] = avg\n",
        "\n",
        "    overall_list = sorted(overall_dict.items(), key=lambda x: x[1], reverse=True)\n",
        "    return get_best_and_worst_gadget(overall_list)"
      ],
      "metadata": {
        "id": "fmiVeZ6VJH0l"
      },
      "execution_count": null,
      "outputs": []
    },
    {
      "cell_type": "code",
      "source": [
        "def get_best_and_worst_gadget(overall_list):\n",
        "    final = {\"best\":overall_list[0][0], \"worst\":overall_list[-1][0]}\n",
        "    print(\"\\nBest and Worst Gadgets : \",final)\n"
      ],
      "metadata": {
        "id": "nJ1xb13JJNMa"
      },
      "execution_count": null,
      "outputs": []
    },
    {
      "cell_type": "code",
      "source": [
        "def main():\n",
        "    # Sample data\n",
        "    survey_responses = [\n",
        "    {\"name\": \"Alice\", \"gadget\": \"Smartphone\", \"performance\": 4, \"design\": 5, \"value\": 4},\n",
        "    {\"name\": \"Bob\", \"gadget\": \"Laptop\", \"performance\": 5, \"design\": 4, \"value\": 3},\n",
        "    {\"name\": \"Charlie\", \"gadget\": \"Smartphone\", \"performance\": 3, \"design\": 4},\n",
        "    {\"name\": \"Dave\", \"gadget\": \"Smartwatch\", \"performance\": 4, \"design\": 5, \"value\": 5},\n",
        "    {\"name\": \"Eve\", \"gadget\": \"Smartwatch\", \"performance\": 5, \"design\": 4, \"value\": 4},\n",
        "    {\"name\": \"Frank\", \"gadget\": \"Laptop\", \"performance\": 4, \"value\": 4},\n",
        "    {\"name\": \"Grace\", \"gadget\": \"Smartphone\", \"performance\": 5, \"design\": 4, \"value\": 4},\n",
        "    {\"name\": \"Heidi\", \"gadget\": \"Laptop\", \"design\": 5, \"value\": 4}\n",
        "     ]\n",
        "\n",
        "    sort_gadget_by_satisfaction(survey_responses)"
      ],
      "metadata": {
        "id": "ANH9p1OfJRiL"
      },
      "execution_count": null,
      "outputs": []
    },
    {
      "cell_type": "code",
      "source": [
        "main()"
      ],
      "metadata": {
        "colab": {
          "base_uri": "https://localhost:8080/"
        },
        "id": "vdEo9zPrJT1T",
        "outputId": "166c617b-d453-4efe-84cc-a3ba5fe6d06c"
      },
      "execution_count": null,
      "outputs": [
        {
          "output_type": "stream",
          "name": "stdout",
          "text": [
            "On Performance :\n",
            "---------------\n",
            "Laptop  :  4.5\n",
            "Smartwatch  :  4.5\n",
            "Smartphone  :  4.0\n",
            "\n",
            "On Design :\n",
            "----------\n",
            "Laptop  :  4.5\n",
            "Smartwatch  :  4.5\n",
            "Smartphone  :  4.33\n",
            "\n",
            "On Value :\n",
            "---------\n",
            "Smartwatch  :  4.5\n",
            "Smartphone  :  4.0\n",
            "Laptop  :  3.67\n",
            "\n",
            "Overall rating : \n",
            "---------------\n",
            "Laptop  :  4.22\n",
            "Smartphone  :  4.11\n",
            "Smartwatch  :  4.5\n",
            "\n",
            "Best and Worst Gadgets :  {'best': 'Smartwatch', 'worst': 'Smartphone'}\n"
          ]
        }
      ]
    },
    {
      "cell_type": "code",
      "source": [],
      "metadata": {
        "id": "_SFMKBsK-6i5"
      },
      "execution_count": null,
      "outputs": []
    }
  ]
}